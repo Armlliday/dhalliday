{
  "nbformat": 4,
  "nbformat_minor": 0,
  "metadata": {
    "colab": {
      "name": "TerceraTareaIAM.ipynb",
      "provenance": [],
      "authorship_tag": "ABX9TyOLY3dvo9CTiFfztC8DCXvX",
      "include_colab_link": true
    },
    "kernelspec": {
      "name": "python3",
      "display_name": "Python 3"
    },
    "language_info": {
      "name": "python"
    }
  },
  "cells": [
    {
      "cell_type": "markdown",
      "metadata": {
        "id": "view-in-github",
        "colab_type": "text"
      },
      "source": [
        "<a href=\"https://colab.research.google.com/github/Armlliday/dhalliday/blob/main/TerceraTareaIAM.ipynb\" target=\"_parent\"><img src=\"https://colab.research.google.com/assets/colab-badge.svg\" alt=\"Open In Colab\"/></a>"
      ]
    },
    {
      "cell_type": "code",
      "metadata": {
        "id": "K7CxVr-kvTLs"
      },
      "source": [
        "import numpy as np\n",
        "import matplotlib.pyplot as plt\n",
        "import random"
      ],
      "execution_count": null,
      "outputs": []
    },
    {
      "cell_type": "markdown",
      "metadata": {
        "id": "6PsS-CXOvK-N"
      },
      "source": [
        "*Ejercicio* 2.2"
      ]
    },
    {
      "cell_type": "markdown",
      "metadata": {
        "id": "NxB8QRc0v06x"
      },
      "source": [
        "(a).\n",
        "\n",
        "*   Acá nos sirve el $k=2$, pues $m_\\mathcal{H}(k)=2+1<2^2$. Como para todo $N$ sabemos que $m_\\mathcal{H}(N)=N+1$, y se cumple que $$m_\\mathcal{H}(N)\\leq N+1=\\binom N1+\\binom N0 =\\sum_{i=0}^{2-1} \\binom Ni. $$\n",
        "*   En este caso,  $k=3$ porque $m_\\mathcal{H}(3)=3+3+1<2^3$. Usamos que $m_\\mathcal{H}(N)=\\frac{N(N+1)}{2}+1$,y comprobamos el resultado con $$m_\\mathcal{H}(N)\\leq \\frac{N(N+1)}{2}+1=\\frac{N(N-1)}{2}+N+1=\\binom N2+\\binom N1+\\binom N0 =\\sum_{i=0}^{3-1} \\binom Ni.$$ \n",
        "*   No existe ninguna $k$ que satisfaga la hipótesis. La desigualdad en este caso solo sirve para $k\\leq N+1$, y esto se puede ver brevemente recordando la propiedad de combinatoria $\\sum_{i=0}^{N} \\binom Ni=2^N$ y que $m_\\mathcal{H}(N)=2^N$.\n",
        "(b).\n",
        "No, no puede existir, porque de así serlo tendríamos que $k=3$ pues $m_\\mathcal{H}(3)=3+2^{3/2}<2^3$ y la implicación no se tiene para todo N, por ejemplo con $N=30$, tenemos que $m_\\mathcal{H}(30)=32798$, mientras que $\\sum_{i=0}^{3-1} \\binom {30}i=466$. "
      ]
    },
    {
      "cell_type": "markdown",
      "metadata": {
        "id": "CgXLAudsvYne"
      },
      "source": [
        "*Ejercicio* 2.5"
      ]
    },
    {
      "cell_type": "markdown",
      "metadata": {
        "id": "SGk8C_MwAnU5"
      },
      "source": [
        "Si despejamos de la ecuación al $\\delta$, obtenemos que $\\delta\\leq\\frac{4m_\\mathcal{h}(2N)}{e^{N(E_{out}-E_{in})^2/8}}$. Calculando esta cota, vemos que "
      ]
    },
    {
      "cell_type": "code",
      "metadata": {
        "colab": {
          "base_uri": "https://localhost:8080/"
        },
        "id": "2z_tDWb2BQyf",
        "outputId": "990e96fc-476f-4cfe-eda1-5f03b75aa597"
      },
      "source": [
        "deltaleq = (4*(2*100 +1)) / np.exp(100* 0.1**2 /8)\n",
        "print('delta es menor o igual que',deltaleq,'.')"
      ],
      "execution_count": null,
      "outputs": [
        {
          "output_type": "stream",
          "text": [
            "delta es menor o igual que 709.5275096780147 .\n"
          ],
          "name": "stdout"
        }
      ]
    },
    {
      "cell_type": "markdown",
      "metadata": {
        "id": "GLuU4i4FCEJf"
      },
      "source": [
        "Por lo tanto, como esta cota no ayuda mucho, la probabilidad $1-\\delta$ puede ser realmente cualquiera. "
      ]
    },
    {
      "cell_type": "markdown",
      "metadata": {
        "id": "po_TkAtuvY0H"
      },
      "source": [
        "*Ejercicio* 2.6"
      ]
    },
    {
      "cell_type": "markdown",
      "metadata": {
        "id": "ZE_eYwOuE2RA"
      },
      "source": [
        "(a).\n",
        "Si utilizamos la ecuación (2.1) del libro, obtenemos que el error en la muestra corresponde a "
      ]
    },
    {
      "cell_type": "code",
      "metadata": {
        "colab": {
          "base_uri": "https://localhost:8080/"
        },
        "id": "cOm1dW3AFAgl",
        "outputId": "b54372e8-63f9-4bc2-ac6e-c49c83e27e6c"
      },
      "source": [
        "error1= np.sqrt(np.log(2*1000/0.05)/(2*400))\n",
        "error1"
      ],
      "execution_count": null,
      "outputs": [
        {
          "output_type": "execute_result",
          "data": {
            "text/plain": [
              "0.11509037065006825"
            ]
          },
          "metadata": {
            "tags": []
          },
          "execution_count": 7
        }
      ]
    },
    {
      "cell_type": "markdown",
      "metadata": {
        "id": "gQn1x9lNFiV2"
      },
      "source": [
        "y que el error de prueba de los otros 200 ejemplos que se apartaron es de "
      ]
    },
    {
      "cell_type": "code",
      "metadata": {
        "colab": {
          "base_uri": "https://localhost:8080/"
        },
        "id": "vtCHKUL2FhqI",
        "outputId": "ad3b3135-3abd-4da8-e1a6-a6ecb95a3a53"
      },
      "source": [
        "error2= np.sqrt(np.log(2/0.05)/(2*200))\n",
        "error2"
      ],
      "execution_count": null,
      "outputs": [
        {
          "output_type": "execute_result",
          "data": {
            "text/plain": [
              "0.09603227913199208"
            ]
          },
          "metadata": {
            "tags": []
          },
          "execution_count": 9
        }
      ]
    },
    {
      "cell_type": "markdown",
      "metadata": {
        "id": "eb8r6-7mHa_n"
      },
      "source": [
        "Así que el primero es mayor."
      ]
    },
    {
      "cell_type": "markdown",
      "metadata": {
        "id": "zxS71EWyHhzs"
      },
      "source": [
        "(b).\n",
        "Si tomamos más para las pruebas, le estaríamos quitando a las del entrenamiento. El error de las pruebas ya es suficientemente pequeño, y aumentarle probablemente no lo reducirá mucho, mientras que reducirle al entrenamiento sí podría afectarle severamente."
      ]
    },
    {
      "cell_type": "markdown",
      "metadata": {
        "id": "eYRMwKaFvZMP"
      },
      "source": [
        "*Problema* 2.1"
      ]
    },
    {
      "cell_type": "markdown",
      "metadata": {
        "id": "hye0ad7qI8v9"
      },
      "source": [
        "(a)."
      ]
    },
    {
      "cell_type": "code",
      "metadata": {
        "colab": {
          "base_uri": "https://localhost:8080/"
        },
        "id": "b-z_e5u9JFyX",
        "outputId": "ae92d506-27e8-42b9-996a-c514d173a046"
      },
      "source": [
        "np.ceil(np.log(2/0.03)/(2* 0.05**2))"
      ],
      "execution_count": null,
      "outputs": [
        {
          "output_type": "execute_result",
          "data": {
            "text/plain": [
              "840.0"
            ]
          },
          "metadata": {
            "tags": []
          },
          "execution_count": 11
        }
      ]
    },
    {
      "cell_type": "markdown",
      "metadata": {
        "id": "uDMUjs24I_sf"
      },
      "source": [
        "(b)."
      ]
    },
    {
      "cell_type": "code",
      "metadata": {
        "colab": {
          "base_uri": "https://localhost:8080/"
        },
        "id": "v5-KRZPFKxAA",
        "outputId": "afcaf215-b667-4854-9226-6a6bcae859f1"
      },
      "source": [
        "np.ceil(np.log(2*100/0.03)/(2* 0.05**2))"
      ],
      "execution_count": null,
      "outputs": [
        {
          "output_type": "execute_result",
          "data": {
            "text/plain": [
              "1761.0"
            ]
          },
          "metadata": {
            "tags": []
          },
          "execution_count": 12
        }
      ]
    },
    {
      "cell_type": "markdown",
      "metadata": {
        "id": "fU06IhhDI_w1"
      },
      "source": [
        "(c)."
      ]
    },
    {
      "cell_type": "code",
      "metadata": {
        "colab": {
          "base_uri": "https://localhost:8080/"
        },
        "id": "lae-KOQFK0MJ",
        "outputId": "5bba4c44-23ed-479a-d976-bf870f066007"
      },
      "source": [
        "np.ceil(np.log(2*10000/0.03)/(2* 0.05**2))"
      ],
      "execution_count": null,
      "outputs": [
        {
          "output_type": "execute_result",
          "data": {
            "text/plain": [
              "2683.0"
            ]
          },
          "metadata": {
            "tags": []
          },
          "execution_count": 13
        }
      ]
    },
    {
      "cell_type": "markdown",
      "metadata": {
        "id": "wsX2XrJyvhe1"
      },
      "source": [
        "*Problema* 2.12"
      ]
    },
    {
      "cell_type": "markdown",
      "metadata": {
        "id": "1g0SjLspNElX"
      },
      "source": [
        "Como queremos que el error sea $0.05$, y estar $95$% seguros, debemos tener un $\\delta=0.05$ también. Despejando de la generalización, vemos que $$N\\geq\\frac{8}{0.05^2}\\log(4\\frac{2N^{10}+1}{0.05}),$$\n",
        "y como no podemos despejar el $N$ de acá, debemos iterar de la siguiente forma"
      ]
    },
    {
      "cell_type": "code",
      "metadata": {
        "colab": {
          "base_uri": "https://localhost:8080/"
        },
        "id": "Za96IIxwNEFH",
        "outputId": "08494a74-70cc-42f6-af34-6de2a75bc97d"
      },
      "source": [
        "def check(N):\n",
        "  if N>= ((8/0.05**2)*np.log(80*(2* N**10 +1))):\n",
        "    return True\n",
        "  return False\n",
        "\n",
        "sample = 0.0\n",
        "while not check(sample):\n",
        "  sample+=1\n",
        "sample"
      ],
      "execution_count": null,
      "outputs": [
        {
          "output_type": "execute_result",
          "data": {
            "text/plain": [
              "431437.0"
            ]
          },
          "metadata": {
            "tags": []
          },
          "execution_count": 23
        }
      ]
    },
    {
      "cell_type": "markdown",
      "metadata": {
        "id": "4Rp7fuG_vhm0"
      },
      "source": [
        "*Problema* 2.16"
      ]
    },
    {
      "cell_type": "markdown",
      "metadata": {
        "id": "RMtPAO3tZuLO"
      },
      "source": [
        "(a).\n",
        "Escogemos $D+1$ puntos diferenes de la forma $x_0,x_1,\\dots,x_D\\in\\mathbb{R}$. Sabemos que la matriz Vandermonde, $X$, que generan estos puntos tiene dimensión $D+1$ e invertible, ya que esto caracteriza a las Vandermonde, pues cada columna y fila es diferente. Escogemos a $y=(y_0,y_1,\\dots,y_D)^T$ donde cada $y_j\\in\\{-1,+1\\}$. Tomamos a $c=(c_0,c_1,\\dots,c_D)^T$ de la forma $c=X^{-1}y$. Por tanto se nos cumple que $Xc=y$, luego, podemos definir $h_c(x_k)=y_k$ para todos los $k=0,\\dots, D$, y tenemos que lo divide bien, por ende es claro que $m_\\mathcal{H}=2^{D+1}$. Así que por lo menos es $D+1$.\n"
      ]
    },
    {
      "cell_type": "markdown",
      "metadata": {
        "id": "dU4WYwLUhA_b"
      },
      "source": [
        "(b).\n",
        "Sabemos que el polinomio asociado a $h_{c}(x)$ solo tiene $D$ soluciones, así que si escogemos $D+2$ puntos distintos de $\\mathbb{R}$, podemos separarlo para los $D$ puntos pero nos sobran dos y estos dos puntos deben ir juntos, así que no pueden ser separados en cualquier caso. Luego queda demostrado que no se pueden dividir todos estos puntos."
      ]
    }
  ]
}