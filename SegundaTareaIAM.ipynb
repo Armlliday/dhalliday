{
  "nbformat": 4,
  "nbformat_minor": 0,
  "metadata": {
    "colab": {
      "name": "SegundaTareaIAM.ipynb",
      "provenance": [],
      "authorship_tag": "ABX9TyMWmm+mdlOX6MpeijoF+TN+"
    },
    "kernelspec": {
      "name": "python3",
      "display_name": "Python 3"
    },
    "language_info": {
      "name": "python"
    }
  },
  "cells": [
    {
      "cell_type": "code",
      "metadata": {
        "id": "7IDhZ16xXAML"
      },
      "source": [
        "import numpy as np\n",
        "import matplotlib.pyplot as plt\n",
        "import random"
      ],
      "execution_count": 1,
      "outputs": []
    },
    {
      "cell_type": "markdown",
      "metadata": {
        "id": "XNS0kuXKFJou"
      },
      "source": [
        "*Ejercicio* 1.12"
      ]
    },
    {
      "cell_type": "markdown",
      "metadata": {
        "id": "YaRcWH9EFO0-"
      },
      "source": [
        "Las opciones (a) y (b) hacen promesas que no podría cumplir en tales condiciones, pues en muchos casos podría darse que la $f$ no esté bien aproximada por fuera de la muestra. La más cercana sería la opción (c) pues propone dos opciones que como tal no están prometiendo algo que no podríamos cumplir, además que se complementan entre sí porque cubren la opción en la que fallamos, que podría ser una ocurrencia en caso que la $f$ sea una función muy extraña. Tiende a ser algo ambigua el decir que o sí la prometemos, o en defitiva fallamos, pero es la mejor opción de las tres en este sentido, y esto tiene que ver con que los 4000 datos son bastantes y podría darse que corresponda, pero tampoco es mucho lo que nos puede llegar a prometer acá la cota de Hoeffding. "
      ]
    },
    {
      "cell_type": "markdown",
      "metadata": {
        "id": "68i_xEUdfmOy"
      },
      "source": [
        "*Problema* 1.2"
      ]
    },
    {
      "cell_type": "markdown",
      "metadata": {
        "id": "jjeApVTJ2Tzs"
      },
      "source": [
        "(a). La recta que nos va a poder cumplir las condiciones para separar el signo, corresponde a $w^Tx=0$, pues nos estará separando el producto según si signo, simplificando, esta equivale a $w_0+w_1x_1+w_2x_2=0$, despejando el $x_2$, se obtiene que $$x_2=-\\frac{w_1}{w_2}x_1-\\frac{w_0}{w_2}.$$ Por tanto $a=-\\frac{w_1}{w_2}$ y $b=-\\frac{w_0}{w_2}$."
      ]
    },
    {
      "cell_type": "markdown",
      "metadata": {
        "id": "KY_nP6AP3nxK"
      },
      "source": [
        "(b). La gráfica del hiperplano separador para $w^T=[1,2,3]$, corresponde a:"
      ]
    },
    {
      "cell_type": "code",
      "metadata": {
        "colab": {
          "base_uri": "https://localhost:8080/",
          "height": 265
        },
        "id": "yBw58lyM4mVu",
        "outputId": "7fa6e6f7-a4c2-4123-f738-f872c5e7bcd5"
      },
      "source": [
        "x = np.arange(-10, 10, 1)\n",
        "y = -(2/3)*x -1/3\n",
        "\n",
        "plt.plot(x, y)\n",
        "\n",
        "plt.show()"
      ],
      "execution_count": null,
      "outputs": [
        {
          "output_type": "display_data",
          "data": {
            "image/png": "[encoded data removed]",
            "text/plain": [
              "<Figure size 432x288 with 1 Axes>"
            ]
          },
          "metadata": {
            "tags": [],
            "needs_background": "light"
          }
        }
      ]
    },
    {
      "cell_type": "markdown",
      "metadata": {
        "id": "Rrdc6tQI5rQ_"
      },
      "source": [
        "Mientras que la gráfica del hiperplano separador con $w^T=-[1,2,3]$ a:"
      ]
    },
    {
      "cell_type": "code",
      "metadata": {
        "colab": {
          "base_uri": "https://localhost:8080/",
          "height": 265
        },
        "id": "HNH_sdhi5z5F",
        "outputId": "19bdab04-cc35-4554-d2d0-f401cb33cdce"
      },
      "source": [
        "x2 = np.arange(-10, 10, 1)\n",
        "y2 = -(-2/-3)*x2 -(-1/-3)\n",
        "\n",
        "plt.plot(x2, y2)\n",
        "\n",
        "plt.show()"
      ],
      "execution_count": null,
      "outputs": [
        {
          "output_type": "display_data",
          "data": {
            "image/png": "[encoded data removed]",
            "text/plain": [
              "<Figure size 432x288 with 1 Axes>"
            ]
          },
          "metadata": {
            "tags": [],
            "needs_background": "light"
          }
        }
      ]
    },
    {
      "cell_type": "markdown",
      "metadata": {
        "id": "7L-wnkI7ftvd"
      },
      "source": [
        "*Problema* 1.4"
      ]
    },
    {
      "cell_type": "markdown",
      "metadata": {
        "id": "4HRc1SvpEG32"
      },
      "source": [
        "(a)."
      ]
    },
    {
      "cell_type": "code",
      "metadata": {
        "colab": {
          "base_uri": "https://localhost:8080/",
          "height": 265
        },
        "id": "Dx8U-619W16T",
        "outputId": "fea80391-f0d7-4fee-e046-c0e3188a4a6b"
      },
      "source": [
        "w=[random.randint(-6,6),random.randint(-6,6),random.randint(-6,6)]\n",
        "def sign(z):\n",
        "  if w[0]+w[1]*z[0]+w[2]*z[1]>=0:\n",
        "    return 1\n",
        "  else:\n",
        "    return -1\n",
        "\n",
        "dataSet=[]\n",
        "for i in range(20):\n",
        "  x=[random.uniform(-6, 6), random.uniform(-6, 6)]\n",
        "  y=sign(x)\n",
        "  dataSet.append([x,y])\n",
        "\n",
        "greenX, redX, greenY, redY=[],[],[],[]\n",
        "for i in dataSet:\n",
        "  if i[1]==1:\n",
        "    greenX.append(i[0][0])\n",
        "    greenY.append(i[0][1])\n",
        "  else:\n",
        "    redX.append(i[0][0])\n",
        "    redY.append(i[0][1])\n",
        "\n",
        "plt.scatter(greenX,greenY, color='green')\n",
        "plt.scatter(redX,redY, color='red')\n",
        "tempX=np.arange(-6,6)\n",
        "plt.plot(tempX,-(w[1]/w[2])*tempX-(w[0]/w[2]),color='yellow')\n",
        "plt.show()"
      ],
      "execution_count": 3,
      "outputs": [
        {
          "output_type": "display_data",
          "data": {
            "image/png": "[encoded data removed]",
            "text/plain": [
              "<Figure size 432x288 with 1 Axes>"
            ]
          },
          "metadata": {
            "tags": [],
            "needs_background": "light"
          }
        }
      ]
    },
    {
      "cell_type": "markdown",
      "metadata": {
        "id": "DRon66poES6B"
      },
      "source": [
        "(b)."
      ]
    },
    {
      "cell_type": "code",
      "metadata": {
        "id": "Y5N1Qv-cEUSq",
        "colab": {
          "base_uri": "https://localhost:8080/",
          "height": 282
        },
        "outputId": "8db1a022-5de0-456e-e206-417b253fca97"
      },
      "source": [
        "count=0\n",
        "originalTempW=[random.randint(-6,6),random.randint(-6,6),random.randint(-6,6)]\n",
        "tempW=originalTempW\n",
        "def tempSign(tempWW,z):\n",
        "  if tempWW[0]+tempWW[1]*z[0]+tempWW[2]*z[1]>=0:\n",
        "    return 1\n",
        "  else:\n",
        "    return -1\n",
        "\n",
        "outliers=[]\n",
        "def outers(ww):\n",
        "  tempOutliers=[]\n",
        "  for i in dataSet:\n",
        "    if tempSign(ww,i[0])!=i[1]:\n",
        "      tempOutliers.append(i)\n",
        "  return tempOutliers\n",
        "\n",
        "outliers=outers(tempW)\n",
        "\n",
        "while outliers:\n",
        "  for i in outliers:\n",
        "    temp=[x*i[1] for x in i[0]]\n",
        "    temp2=[1]\n",
        "    temp2.extend(temp)\n",
        "    tempW=[sum(x) for x in zip(tempW,temp2)]\n",
        "    count+=1\n",
        "  outliers=outers(tempW)\n",
        "print(\"Se necesitaron \",count,\" updates hasta converger\")\n",
        "\n",
        "plt.scatter(greenX,greenY, color='green')\n",
        "plt.scatter(redX,redY, color='red')\n",
        "plt.plot(tempX,-(w[1]/w[2])*tempX-(w[0]/w[2]),color='yellow')\n",
        "plt.plot(tempX,-(originalTempW[1]/originalTempW[2])*tempX-(originalTempW[0]/originalTempW[2]),color='blue')\n",
        "plt.plot(tempX,-(tempW[1]/tempW[2])*tempX-(tempW[0]/tempW[2]),color='purple')\n",
        "plt.show()"
      ],
      "execution_count": 14,
      "outputs": [
        {
          "output_type": "stream",
          "text": [
            "Se necesitaron  0  updates hasta converger\n"
          ],
          "name": "stdout"
        },
        {
          "output_type": "display_data",
          "data": {
            "image/png": "[encoded data removed]",
            "text/plain": [
              "<Figure size 432x288 with 1 Axes>"
            ]
          },
          "metadata": {
            "tags": [],
            "needs_background": "light"
          }
        }
      ]
    },
    {
      "cell_type": "markdown",
      "metadata": {
        "id": "UMkQe2J9jHWp"
      },
      "source": [
        "En la anterior gráfica se pueden observar tres rectas, la amarilla es la recta que se trabajó en el punto (a)., la recta azul es la recta generada aleatoriamente, mientras que la recta morada, es la recta separadora obtenida mediante el perceptrón.\n",
        "\n",
        "Acerca de comentar qué tan cerca están las funciones f (amarilla) y g (morada), pues la verdad pareciera que una es como la aproximación a los puntos rojos y la otra a los puntos verdes, desde que ambas separen bien el conjunto de datos."
      ]
    },
    {
      "cell_type": "markdown",
      "metadata": {
        "id": "_vYHrMnBlSO9"
      },
      "source": [
        "(c)."
      ]
    },
    {
      "cell_type": "code",
      "metadata": {
        "colab": {
          "base_uri": "https://localhost:8080/",
          "height": 282
        },
        "id": "pNXpY16Ylbfe",
        "outputId": "cd516ca7-f42a-4188-c797-d57c4df7419e"
      },
      "source": [
        "w2=[random.randint(-6,6),random.randint(-6,6),random.randint(-6,6)]\n",
        "def sign2(z):\n",
        "  if w2[0]+w2[1]*z[0]+w2[2]*z[1]>=0:\n",
        "    return 1\n",
        "  else:\n",
        "    return -1\n",
        "\n",
        "dataSet2=[]\n",
        "for i in range(20):\n",
        "  x=[random.uniform(-6, 6), random.uniform(-6, 6)]\n",
        "  y=sign2(x)\n",
        "  dataSet2.append([x,y])\n",
        "\n",
        "greenX2, redX2, greenY2, redY2=[],[],[],[]\n",
        "for i in dataSet2:\n",
        "  if i[1]==1:\n",
        "    greenX2.append(i[0][0])\n",
        "    greenY2.append(i[0][1])\n",
        "  else:\n",
        "    redX2.append(i[0][0])\n",
        "    redY2.append(i[0][1])\n",
        "\n",
        "count2=0\n",
        "originalTempW2=[random.randint(-6,6),random.randint(-6,6),random.randint(-6,6)]\n",
        "tempW2=originalTempW2\n",
        "\n",
        "outliers2=[]\n",
        "def outers2(ww):\n",
        "  tempOutliers2=[]\n",
        "  for i in dataSet2:\n",
        "    if tempSign(ww,i[0])!=i[1]:\n",
        "      tempOutliers2.append(i)\n",
        "  return tempOutliers2\n",
        "\n",
        "outliers2=outers2(tempW2)\n",
        "\n",
        "while outliers2:\n",
        "  for i in outliers2:\n",
        "    tempa=[x*i[1] for x in i[0]]\n",
        "    temp2a=[1]\n",
        "    temp2a.extend(tempa)\n",
        "    tempW2=[sum(x) for x in zip(tempW2,temp2a)]\n",
        "    count2+=1\n",
        "  outliers2=outers2(tempW2)\n",
        "print(\"Se necesitaron \",count2,\" updates hasta converger\")\n",
        "\n",
        "plt.scatter(greenX2,greenY2, color='green')\n",
        "plt.scatter(redX2,redY2, color='red')\n",
        "plt.plot(tempX,-(w2[1]/w2[2])*tempX-(w2[0]/w2[2]),color='yellow')\n",
        "plt.plot(tempX,-(originalTempW2[1]/originalTempW2[2])*tempX-(originalTempW2[0]/originalTempW2[2]),color='blue')\n",
        "plt.plot(tempX,-(tempW2[1]/tempW2[2])*tempX-(tempW2[0]/tempW2[2]),color='purple')\n",
        "plt.show()"
      ],
      "execution_count": null,
      "outputs": [
        {
          "output_type": "stream",
          "text": [
            "Se necesitaron  25  updates hasta converger\n"
          ],
          "name": "stdout"
        },
        {
          "output_type": "display_data",
          "data": {
            "image/png": "[encoded data removed]",
            "text/plain": [
              "<Figure size 432x288 with 1 Axes>"
            ]
          },
          "metadata": {
            "tags": [],
            "needs_background": "light"
          }
        }
      ]
    },
    {
      "cell_type": "markdown",
      "metadata": {
        "id": "06S4-vGF5pCK"
      },
      "source": [
        "Bastante similar a (b). pero mayor cantidad de updates."
      ]
    },
    {
      "cell_type": "markdown",
      "metadata": {
        "id": "D30GfFcM6KtM"
      },
      "source": [
        "(c)."
      ]
    },
    {
      "cell_type": "code",
      "metadata": {
        "colab": {
          "base_uri": "https://localhost:8080/",
          "height": 282
        },
        "id": "KOGLWiZX6Eaa",
        "outputId": "bfc3e1fc-3402-4355-f114-56058b550167"
      },
      "source": [
        "w3=[random.randint(-6,6),random.randint(-6,6),random.randint(-6,6)]\n",
        "def sign3(z):\n",
        "  if w3[0]+w3[1]*z[0]+w3[2]*z[1]>=0:\n",
        "    return 1\n",
        "  else:\n",
        "    return -1\n",
        "\n",
        "dataSet2=[]\n",
        "for i in range(100):\n",
        "  x=[random.uniform(-6, 6), random.uniform(-6, 6)]\n",
        "  y=sign3(x)\n",
        "  dataSet2.append([x,y])\n",
        "\n",
        "greenX2, redX2, greenY2, redY2=[],[],[],[]\n",
        "for i in dataSet2:\n",
        "  if i[1]==1:\n",
        "    greenX2.append(i[0][0])\n",
        "    greenY2.append(i[0][1])\n",
        "  else:\n",
        "    redX2.append(i[0][0])\n",
        "    redY2.append(i[0][1])\n",
        "\n",
        "count2=0\n",
        "originalTempW2=[random.randint(-6,6),random.randint(-6,6),random.randint(-6,6)]\n",
        "tempW2=originalTempW2\n",
        "\n",
        "outliers2=[]\n",
        "def outers2(ww):\n",
        "  tempOutliers2=[]\n",
        "  for i in dataSet2:\n",
        "    if tempSign(ww,i[0])!=i[1]:\n",
        "      tempOutliers2.append(i)\n",
        "  return tempOutliers2\n",
        "\n",
        "outliers2=outers2(tempW2)\n",
        "\n",
        "while outliers2:\n",
        "  for i in outliers2:\n",
        "    tempa=[x*i[1] for x in i[0]]\n",
        "    temp2a=[1]\n",
        "    temp2a.extend(tempa)\n",
        "    tempW2=[sum(x) for x in zip(tempW2,temp2a)]\n",
        "    count2+=1\n",
        "  outliers2=outers2(tempW2)\n",
        "print(\"Se necesitaron \",count2,\" updates hasta converger\")\n",
        "\n",
        "plt.scatter(greenX2,greenY2, color='green')\n",
        "plt.scatter(redX2,redY2, color='red')\n",
        "plt.plot(tempX,-(w3[1]/w3[2])*tempX-(w3[0]/w3[2]),color='yellow')\n",
        "plt.plot(tempX,-(originalTempW2[1]/originalTempW2[2])*tempX-(originalTempW2[0]/originalTempW2[2]),color='blue')\n",
        "plt.plot(tempX,-(tempW2[1]/tempW2[2])*tempX-(tempW2[0]/tempW2[2]),color='purple')\n",
        "plt.show()"
      ],
      "execution_count": null,
      "outputs": [
        {
          "output_type": "stream",
          "text": [
            "Se necesitaron  143  updates hasta converger\n"
          ],
          "name": "stdout"
        },
        {
          "output_type": "display_data",
          "data": {
            "image/png": "[encoded data removed]",
            "text/plain": [
              "<Figure size 432x288 with 1 Axes>"
            ]
          },
          "metadata": {
            "tags": [],
            "needs_background": "light"
          }
        }
      ]
    },
    {
      "cell_type": "markdown",
      "metadata": {
        "id": "1QPmJg-EQi6q"
      },
      "source": [
        "Similar al (b). también pero aumenta más veces la cantidad de updates que la cantidad que incrementamos el conjunto."
      ]
    },
    {
      "cell_type": "markdown",
      "metadata": {
        "id": "btttgcCNQutX"
      },
      "source": [
        "(e)."
      ]
    },
    {
      "cell_type": "code",
      "metadata": {
        "colab": {
          "base_uri": "https://localhost:8080/",
          "height": 282
        },
        "id": "0oQL1NHuQ045",
        "outputId": "49b1249d-b0c6-4baf-e8d4-63f85b861195"
      },
      "source": [
        "w4=[random.randint(-6,6),random.randint(-6,6),random.randint(-6,6)]\n",
        "def sign4(z):\n",
        "  if w4[0]+w4[1]*z[0]+w4[2]*z[1]>=0:\n",
        "    return 1\n",
        "  else:\n",
        "    return -1\n",
        "\n",
        "dataSet3=[]\n",
        "for i in range(1000):\n",
        "  x=[random.uniform(-6, 6), random.uniform(-6, 6)]\n",
        "  y=sign4(x)\n",
        "  dataSet3.append([x,y])\n",
        "\n",
        "greenX2, redX2, greenY2, redY2=[],[],[],[]\n",
        "for i in dataSet3:\n",
        "  if i[1]==1:\n",
        "    greenX2.append(i[0][0])\n",
        "    greenY2.append(i[0][1])\n",
        "  else:\n",
        "    redX2.append(i[0][0])\n",
        "    redY2.append(i[0][1])\n",
        "\n",
        "count2=0\n",
        "originalTempW2=[random.randint(-6,6),random.randint(-6,6),random.randint(-6,6)]\n",
        "tempW2=originalTempW2\n",
        "\n",
        "outliers2=[]\n",
        "def outers2(ww):\n",
        "  tempOutliers2=[]\n",
        "  for i in dataSet3:\n",
        "    if tempSign(ww,i[0])!=i[1]:\n",
        "      tempOutliers2.append(i)\n",
        "  return tempOutliers2\n",
        "\n",
        "outliers2=outers2(tempW2)\n",
        "\n",
        "while outliers2:\n",
        "  for i in outliers2:\n",
        "    tempa=[x*i[1] for x in i[0]]\n",
        "    temp2a=[1]\n",
        "    temp2a.extend(tempa)\n",
        "    tempW2=[sum(x) for x in zip(tempW2,temp2a)]\n",
        "    count2+=1\n",
        "  outliers2=outers2(tempW2)\n",
        "print(\"Se necesitaron \",count2,\" updates hasta converger\")\n",
        "\n",
        "plt.scatter(greenX2,greenY2, color='green')\n",
        "plt.scatter(redX2,redY2, color='red')\n",
        "plt.plot(tempX,-(w4[1]/w4[2])*tempX-(w4[0]/w4[2]),color='yellow')\n",
        "plt.plot(tempX,-(originalTempW2[1]/originalTempW2[2])*tempX-(originalTempW2[0]/originalTempW2[2]),color='blue')\n",
        "plt.plot(tempX,-(tempW2[1]/tempW2[2])*tempX-(tempW2[0]/tempW2[2]),color='purple')\n",
        "plt.show()"
      ],
      "execution_count": null,
      "outputs": [
        {
          "output_type": "stream",
          "text": [
            "Se necesitaron  1514  updates hasta converger\n"
          ],
          "name": "stdout"
        },
        {
          "output_type": "display_data",
          "data": {
            "image/png": "[encoded data removed]",
            "text/plain": [
              "<Figure size 432x288 with 1 Axes>"
            ]
          },
          "metadata": {
            "tags": [],
            "needs_background": "light"
          }
        }
      ]
    },
    {
      "cell_type": "markdown",
      "metadata": {
        "id": "Y6AkMnqwRj5J"
      },
      "source": [
        "Nuevamente muy similar a (b). solo que se necesitaron $1.5$ veces más updates que el número de pruebas, mientras que en los dos casos que intentamos con 20, es decir en (b). y (c)., el ratio fue menor a $1$."
      ]
    },
    {
      "cell_type": "markdown",
      "metadata": {
        "id": "7oNEazc0SJlk"
      },
      "source": [
        "(f)."
      ]
    },
    {
      "cell_type": "code",
      "metadata": {
        "colab": {
          "base_uri": "https://localhost:8080/"
        },
        "id": "EWc-Wz-GSaka",
        "outputId": "8e5f79a6-4fc3-42b7-a02b-c4dda14a7a8d"
      },
      "source": [
        "w5=[random.randint(-6,6),random.randint(-6,6),random.randint(-6,6),random.randint(-6,6),random.randint(-6,6),random.randint(-6,6),random.randint(-6,6),random.randint(-6,6),random.randint(-6,6),random.randint(-6,6),random.randint(-6,6)]\n",
        "def sign4(z):\n",
        "  if w5[0]+w5[1]*z[0]+w5[2]*z[1]+w5[3]*z[2]+w5[4]*z[3]+w5[5]*z[4]+w5[6]*z[5]+w5[7]*z[6]+w5[8]*z[7]+w5[9]*z[8]+w5[10]*z[9]>=0:\n",
        "    return 1\n",
        "  else:\n",
        "    return -1\n",
        "\n",
        "def tempSign(tempWW,z):\n",
        "  if tempWW[0]+tempWW[1]*z[0]+tempWW[2]*z[1]+tempWW[3]*z[2]+tempWW[4]*z[3]+tempWW[5]*z[4]+tempWW[6]*z[5]+tempWW[7]*z[6]+tempWW[8]*z[7]+tempWW[9]*z[8]+tempWW[10]*z[9]>=0:\n",
        "    return 1\n",
        "  else:\n",
        "    return -1\n",
        "\n",
        "dataSet4=[]\n",
        "for i in range(1000):\n",
        "  x=[random.uniform(-6, 6), random.uniform(-6, 6),random.uniform(-6, 6),random.uniform(-6, 6),random.uniform(-6, 6),random.uniform(-6, 6),random.uniform(-6, 6),random.uniform(-6, 6),random.uniform(-6, 6),random.uniform(-6, 6)]\n",
        "  y=sign4(x)\n",
        "  dataSet4.append([x,y])\n",
        "\n",
        "count2=0\n",
        "originalTempW2=[random.randint(-6,6),random.randint(-6,6),random.randint(-6,6),random.randint(-6,6),random.randint(-6,6),random.randint(-6,6),random.randint(-6,6),random.randint(-6,6),random.randint(-6,6),random.randint(-6,6),random.randint(-6,6)]\n",
        "tempW2=originalTempW2\n",
        "\n",
        "outliers2=[]\n",
        "def outers2(ww):\n",
        "  tempOutliers2=[]\n",
        "  for i in dataSet4:\n",
        "    if tempSign(ww,i[0])!=i[1]:\n",
        "      tempOutliers2.append(i)\n",
        "  return tempOutliers2\n",
        "\n",
        "outliers2=outers2(tempW2)\n",
        "while outliers2:\n",
        "  for i in outliers2:\n",
        "    tempa=[x*i[1] for x in i[0]]\n",
        "    temp2a=[1]\n",
        "    temp2a.extend(tempa)\n",
        "    tempW2=[sum(x) for x in zip(tempW2,temp2a)]\n",
        "    count2+=1\n",
        "  outliers2=outers2(tempW2)\n",
        "print(\"Se necesitaron \",count2,\" updates hasta converger\")\n"
      ],
      "execution_count": 34,
      "outputs": [
        {
          "output_type": "stream",
          "text": [
            "Se necesitaron  1175  updates hasta converger\n"
          ],
          "name": "stdout"
        }
      ]
    },
    {
      "cell_type": "markdown",
      "metadata": {
        "id": "S5-0sXMsUaKp"
      },
      "source": [
        "(g)."
      ]
    },
    {
      "cell_type": "code",
      "metadata": {
        "id": "j4UGtc6RUhyC",
        "colab": {
          "base_uri": "https://localhost:8080/",
          "height": 265
        },
        "outputId": "def82798-62d2-4be4-c0a9-3cf6619732b2"
      },
      "source": [
        "tests=[]\n",
        "for i in range(100):\n",
        "  w5=[random.randint(-6,6),random.randint(-6,6),random.randint(-6,6),random.randint(-6,6),random.randint(-6,6),random.randint(-6,6),random.randint(-6,6),random.randint(-6,6),random.randint(-6,6),random.randint(-6,6),random.randint(-6,6)]\n",
        "  def sign4(z):\n",
        "    if w5[0]+w5[1]*z[0]+w5[2]*z[1]+w5[3]*z[2]+w5[4]*z[3]+w5[5]*z[4]+w5[6]*z[5]+w5[7]*z[6]+w5[8]*z[7]+w5[9]*z[8]+w5[10]*z[9]>=0:\n",
        "      return 1\n",
        "    else:\n",
        "      return -1\n",
        "\n",
        "  dataSet4=[]\n",
        "  for i in range(20):\n",
        "    x=[random.uniform(-6, 6), random.uniform(-6, 6),random.uniform(-6, 6),random.uniform(-6, 6),random.uniform(-6, 6),random.uniform(-6, 6),random.uniform(-6, 6),random.uniform(-6, 6),random.uniform(-6, 6),random.uniform(-6, 6)]\n",
        "    y=sign4(x)\n",
        "    dataSet4.append([x,y])\n",
        "\n",
        "  count2=0\n",
        "  originalTempW2=[random.randint(-6,6),random.randint(-6,6),random.randint(-6,6),random.randint(-6,6),random.randint(-6,6),random.randint(-6,6),random.randint(-6,6),random.randint(-6,6),random.randint(-6,6),random.randint(-6,6),random.randint(-6,6)]\n",
        "  tempW2=originalTempW2\n",
        "\n",
        "  outliers2=[]\n",
        "  def outers2(ww):\n",
        "    tempOutliers2=[]\n",
        "    for i in dataSet4:\n",
        "      if tempSign(ww,i[0])!=i[1]:\n",
        "        tempOutliers2.append(i)\n",
        "    return tempOutliers2\n",
        "\n",
        "  outliers2=outers2(tempW2)\n",
        "  while outliers2:\n",
        "    for i in range(len(outliers2)):\n",
        "      z=random.choice(outliers2)\n",
        "      outliers2.remove(z)\n",
        "      tempA=[x*z[1] for x in z[0]]\n",
        "      temp2a=[1]\n",
        "      temp2a.extend(tempA)\n",
        "      tempW2=[sum(x) for x in zip(tempW2,temp2a)]\n",
        "      count2+=1\n",
        "    outliers2=outers2(tempW2)\n",
        "  tests.append(count2)\n",
        "plt.hist(tests,bins=500)\n",
        "plt.show()"
      ],
      "execution_count": 44,
      "outputs": [
        {
          "output_type": "display_data",
          "data": {
            "image/png": "[encoded data removed]",
            "text/plain": [
              "<Figure size 432x288 with 1 Axes>"
            ]
          },
          "metadata": {
            "tags": [],
            "needs_background": "light"
          }
        }
      ]
    },
    {
      "cell_type": "code",
      "metadata": {
        "id": "m6rOLHgnKzSS"
      },
      "source": [
        "tests=[]\n",
        "for i in range(100):\n",
        "  w5=[random.randint(-6,6),random.randint(-6,6),random.randint(-6,6),random.randint(-6,6),random.randint(-6,6),random.randint(-6,6),random.randint(-6,6),random.randint(-6,6),random.randint(-6,6),random.randint(-6,6),random.randint(-6,6)]\n",
        "  def sign4(z):\n",
        "    if w5[0]+w5[1]*z[0]+w5[2]*z[1]+w5[3]*z[2]+w5[4]*z[3]+w5[5]*z[4]+w5[6]*z[5]+w5[7]*z[6]+w5[8]*z[7]+w5[9]*z[8]+w5[10]*z[9]>=0:\n",
        "      return 1\n",
        "    else:\n",
        "      return -1\n",
        "\n",
        "  dataSet4=[]\n",
        "  for i in range(100):\n",
        "    x=[random.uniform(-6, 6), random.uniform(-6, 6),random.uniform(-6, 6),random.uniform(-6, 6),random.uniform(-6, 6),random.uniform(-6, 6),random.uniform(-6, 6),random.uniform(-6, 6),random.uniform(-6, 6),random.uniform(-6, 6)]\n",
        "    y=sign4(x)\n",
        "    dataSet4.append([x,y])\n",
        "\n",
        "  count2=0\n",
        "  originalTempW2=[random.randint(-6,6),random.randint(-6,6),random.randint(-6,6),random.randint(-6,6),random.randint(-6,6),random.randint(-6,6),random.randint(-6,6),random.randint(-6,6),random.randint(-6,6),random.randint(-6,6),random.randint(-6,6)]\n",
        "  tempW2=originalTempW2\n",
        "\n",
        "  outliers2=[]\n",
        "  def outers2(ww):\n",
        "    tempOutliers2=[]\n",
        "    for i in dataSet4:\n",
        "      if tempSign(ww,i[0])!=i[1]:\n",
        "        tempOutliers2.append(i)\n",
        "    return tempOutliers2\n",
        "\n",
        "  outliers2=outers2(tempW2)\n",
        "  while outliers2:\n",
        "    for i in range(len(outliers2)):\n",
        "      z=random.choice(outliers2)\n",
        "      outliers2.remove(z)\n",
        "      tempA=[x*z[1] for x in z[0]]\n",
        "      temp2a=[1]\n",
        "      temp2a.extend(tempA)\n",
        "      tempW2=[sum(x) for x in zip(tempW2,temp2a)]\n",
        "      count2+=1\n",
        "    outliers2=outers2(tempW2)\n",
        "  tests.append(count2)\n",
        "plt.hist(tests,bins=500)\n",
        "plt.show()"
      ],
      "execution_count": null,
      "outputs": []
    },
    {
      "cell_type": "markdown",
      "metadata": {
        "id": "ap0dGsC5LOrA"
      },
      "source": [
        "Solo pude cargar con data sets de 20 elementos"
      ]
    },
    {
      "cell_type": "markdown",
      "metadata": {
        "id": "dhxzdiUaJryR"
      },
      "source": [
        "(h)."
      ]
    },
    {
      "cell_type": "markdown",
      "metadata": {
        "id": "517INgWyLVYE"
      },
      "source": [
        "Si aumentamos ambos, se aumentará el tiempo de ejecución, no obstante, al aumentar el $N$, se incrementará más que al incrementar el $d$."
      ]
    },
    {
      "cell_type": "markdown",
      "metadata": {
        "id": "jPS7lOPVf0Qt"
      },
      "source": [
        "*Problema* 1.6"
      ]
    },
    {
      "cell_type": "markdown",
      "metadata": {
        "id": "mGrMeZej6iWu"
      },
      "source": [
        "(a). Como $\\mu$ corresponde a la probabilidad de obtener un canica roja, luego la de no obtenerla sería $1-\\mu$, como la idea es saber cuál es la probabilidad de no sacarla en los 10 intentos, terminaría siendo $(1-\\mu)^{10}$. Ahora bien, podemos proceder a los casos:\n",
        "\n",
        "\n",
        "*   Si el $\\mu=0.05$, tenemos que la probabilidad de que $v=0$ es 0.59873693923837890625\n",
        "*   Si el $\\mu=0.5$, tenemos que la probabilidad de que $v=0$ es 0.0009765625\n",
        "*   Si el $\\mu=0.8$, tenemos que la probabilidad de que $v=0$ es 0.0000001024\n",
        "\n"
      ]
    },
    {
      "cell_type": "markdown",
      "metadata": {
        "id": "AzwRlazK9qNQ"
      },
      "source": [
        "(b). Obtener esta probabilidad resulta de manera más sencilla por el complemento, entonces procedemos primero a obtener cuál sería su complemento, el cual es la probabilidad de que ninguna de las muestras cumpla que $v=0$. Como la probabilidad de que para una muestra específica se tenga $v=0$ es $(1-\\mu)^{10}$, como fue visto en el punto anterior, entonces sabemos que la probabilidad de que no cumpla que $v=0$ sería de $1-(1-\\mu)^{10}$; para los 1000 muestreos la probabilidad entonces sería de $[1-(1-\\mu)^{10}]^{1000}$.\n",
        "\n",
        "La anterior probabilidad es realmente el complemento de la que nos están preguntando, de esta manera, podemos concluir, que la probabilidad de que por lo menos una de los muestreos cumpla que $v=0$ es de $1-[1-(1-\\mu)^{10}]^{1000}$. Sustituyendo ahora por los valores dados, vemos que \n",
        "\n",
        "*   Si el $\\mu=0.05$, la probabilidad de que por lo menos una muestra tenga el $v=0$ es 1\n",
        "*   Si el $\\mu=0.5$, la probabilidad de que por lo menos una muestra tenga el $v=0$ es 0.623576\n",
        "*   Si el $\\mu=0.8$, la probabilidad de que por lo menos una muestra tenga el $v=0$ es 0.000102395\n",
        "\n"
      ]
    },
    {
      "cell_type": "markdown",
      "metadata": {
        "id": "3Os3SSlEDVhm"
      },
      "source": [
        "(c). La probabilidad de este caso sería cambiar la que encontramos en (b). por $1-[1-(1-\\mu)^{10}]^{1000000}$. Sustituyendo:\n",
        "\n",
        "*   Si el $\\mu=0.05$, la probabilidad de que por lo menos una muestra tenga el $v=0$ es 1\n",
        "*   Si el $\\mu=0.5$, la probabilidad de que por lo menos una muestra tenga el $v=0$ es 1\n",
        "*   Si el $\\mu=0.8$, la probabilidad de que por lo menos una muestra tenga el $v=0$ es 0.0973316"
      ]
    },
    {
      "cell_type": "markdown",
      "metadata": {
        "id": "L_OKP6Tvf3sr"
      },
      "source": [
        "*Problema* 1.9"
      ]
    },
    {
      "cell_type": "markdown",
      "metadata": {
        "id": "tQqIiCEaf_y7"
      },
      "source": [
        "*Problema* 1.12"
      ]
    },
    {
      "cell_type": "markdown",
      "metadata": {
        "id": "dvwHCL9tJCTU"
      },
      "source": [
        "(a). Si derivamos $E_{in}(h)$ con respecto a $h$, obtenemos $E_{in}'(h)=\\sum_{n=1}^N2(h-y_n)$, igualándola a 0, si despejamos $h$, tenemos que \\begin{align*} 0&=\\sum_{n=1}^N2(h-y_n)\\\\ 0&=\\sum_{n=1}^N(h-y_n)\\\\\n",
        "Nh&=\\sum_{n=1}^Ny_n\\\\ h&=\\frac{1}{N}\\sum_{n=1}^Ny_n. \\end{align*} Donde en este despeje de $h$ se le puede entender como la media de $h$ o $h_{media}$."
      ]
    },
    {
      "cell_type": "markdown",
      "metadata": {
        "id": "qI4p4RBTLYA1"
      },
      "source": [
        "(b). Al derivar $E_{in}(h)$ con respecto a $h$, llegamos a $E_{in}'(h)=\\sum_{n=1}^N sign(h-y_n)$. Dada la definición de la mediana $h_{mediana}$, se cumple que la derivada sea cero, minimizando el error dentro de la muestra."
      ]
    },
    {
      "cell_type": "markdown",
      "metadata": {
        "id": "80tDpyGJL3NL"
      },
      "source": [
        "(c). Nuestra $h_{media}$ se incrementará bastante pues es claro que depende del valor de $y_n$, mientras que la $h_{mediana}$ puede seguir tal cual pues lo único que nos interesa es que se cumpla la desigualdad $h_{mediana}<y_n$."
      ]
    }
  ]
}